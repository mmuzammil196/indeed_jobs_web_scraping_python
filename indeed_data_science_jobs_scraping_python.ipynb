{
 "cells": [
  {
   "cell_type": "code",
   "execution_count": 57,
   "id": "6e4cf38a",
   "metadata": {},
   "outputs": [],
   "source": [
    "import requests\n",
    "from bs4 import BeautifulSoup\n",
    "import pandas as pd"
   ]
  },
  {
   "cell_type": "code",
   "execution_count": 5,
   "id": "dcba60b4",
   "metadata": {},
   "outputs": [],
   "source": [
    "def extract(page):\n",
    "    headers = 'Mozilla/5.0 (Windows NT 10.0; Win64; x64) AppleWebKit/537.36 (KHTML, like Gecko) Chrome/103.0.0.0 Safari/537.36'\n",
    "    url = f'https://pk.indeed.com/jobs?q=data%20science&start={page}'\n",
    "    response = requests.get(url, headers)\n",
    "    soup = BeautifulSoup(response.text, 'html.parser')\n",
    "    return soup"
   ]
  },
  {
   "cell_type": "code",
   "execution_count": 48,
   "id": "2bcd9f97",
   "metadata": {},
   "outputs": [],
   "source": [
    "def transform(soup):\n",
    "    divs = soup.find_all('div', class_ = 'job_seen_beacon')\n",
    "    for item in divs:\n",
    "        job_title = item.find('a').text.strip()\n",
    "        job_company = item.find('span' , class_ = 'companyName').text.strip()\n",
    "        job_location = item.find('div' , class_ = 'companyLocation').text.strip()\n",
    "        job_summary = item.find('div', class_ = 'job-snippet').text.strip().replace('\\n', '')\n",
    "        job = {\n",
    "            'job_title'   : job_title,\n",
    "            'job_company' : job_company,\n",
    "            'job_location': job_location,\n",
    "            'job_summary' : job_summary\n",
    "        }\n",
    "        joblist.append(job)\n",
    "        \n",
    "    return "
   ]
  },
  {
   "cell_type": "code",
   "execution_count": 55,
   "id": "a25298b2",
   "metadata": {},
   "outputs": [
    {
     "name": "stdout",
     "output_type": "stream",
     "text": [
      "927\n"
     ]
    }
   ],
   "source": [
    "joblist = []\n",
    "for i in range(0, 620, 10):\n",
    "    Extract = extract(i)\n",
    "    transform(Extract)\n",
    "print(len(joblist))"
   ]
  },
  {
   "cell_type": "code",
   "execution_count": 67,
   "id": "1953aec3",
   "metadata": {},
   "outputs": [
    {
     "name": "stdout",
     "output_type": "stream",
     "text": [
      "                          job_title                        job_company  \\\n",
      "0  Information Management Assistant            United Nations Pakistan   \n",
      "1                    Data Scientist                           Teradata   \n",
      "2                      Data Analyst  Aga Khan Health Service, Pakistan   \n",
      "3         Data Processing Associate                                GfK   \n",
      "4                Front Line Manager                            PepsiCo   \n",
      "\n",
      "  job_location                                        job_summary  \n",
      "0     Pakistan  Assist in data cleaning and analysis by ensuri...  \n",
      "1    Islamabad  Experience in data analysis is a plus.Strong h...  \n",
      "2      Karachi  B.Sc. degree (or equivalent level of professio...  \n",
      "3      Karachi  To suggest improvements in product data develo...  \n",
      "4       Multan  Degree in either engineering or food science.E...  \n"
     ]
    }
   ],
   "source": [
    "job_data = pd.DataFrame(joblist)\n",
    "print(job_data.head())\n",
    "job_data.to_csv('indeed_jobs.csv', index = False)"
   ]
  },
  {
   "cell_type": "code",
   "execution_count": 68,
   "id": "34a66be3",
   "metadata": {},
   "outputs": [
    {
     "data": {
      "text/html": [
       "<div>\n",
       "<style scoped>\n",
       "    .dataframe tbody tr th:only-of-type {\n",
       "        vertical-align: middle;\n",
       "    }\n",
       "\n",
       "    .dataframe tbody tr th {\n",
       "        vertical-align: top;\n",
       "    }\n",
       "\n",
       "    .dataframe thead th {\n",
       "        text-align: right;\n",
       "    }\n",
       "</style>\n",
       "<table border=\"1\" class=\"dataframe\">\n",
       "  <thead>\n",
       "    <tr style=\"text-align: right;\">\n",
       "      <th></th>\n",
       "      <th>job_title</th>\n",
       "      <th>job_company</th>\n",
       "      <th>job_location</th>\n",
       "      <th>job_summary</th>\n",
       "    </tr>\n",
       "  </thead>\n",
       "  <tbody>\n",
       "    <tr>\n",
       "      <th>0</th>\n",
       "      <td>Information Management Assistant</td>\n",
       "      <td>United Nations Pakistan</td>\n",
       "      <td>Pakistan</td>\n",
       "      <td>Assist in data cleaning and analysis by ensuri...</td>\n",
       "    </tr>\n",
       "    <tr>\n",
       "      <th>1</th>\n",
       "      <td>Data Scientist</td>\n",
       "      <td>Teradata</td>\n",
       "      <td>Islamabad</td>\n",
       "      <td>Experience in data analysis is a plus.Strong h...</td>\n",
       "    </tr>\n",
       "    <tr>\n",
       "      <th>2</th>\n",
       "      <td>Data Analyst</td>\n",
       "      <td>Aga Khan Health Service, Pakistan</td>\n",
       "      <td>Karachi</td>\n",
       "      <td>B.Sc. degree (or equivalent level of professio...</td>\n",
       "    </tr>\n",
       "    <tr>\n",
       "      <th>3</th>\n",
       "      <td>Data Processing Associate</td>\n",
       "      <td>GfK</td>\n",
       "      <td>Karachi</td>\n",
       "      <td>To suggest improvements in product data develo...</td>\n",
       "    </tr>\n",
       "    <tr>\n",
       "      <th>4</th>\n",
       "      <td>Front Line Manager</td>\n",
       "      <td>PepsiCo</td>\n",
       "      <td>Multan</td>\n",
       "      <td>Degree in either engineering or food science.E...</td>\n",
       "    </tr>\n",
       "  </tbody>\n",
       "</table>\n",
       "</div>"
      ],
      "text/plain": [
       "                          job_title                        job_company  \\\n",
       "0  Information Management Assistant            United Nations Pakistan   \n",
       "1                    Data Scientist                           Teradata   \n",
       "2                      Data Analyst  Aga Khan Health Service, Pakistan   \n",
       "3         Data Processing Associate                                GfK   \n",
       "4                Front Line Manager                            PepsiCo   \n",
       "\n",
       "  job_location                                        job_summary  \n",
       "0     Pakistan  Assist in data cleaning and analysis by ensuri...  \n",
       "1    Islamabad  Experience in data analysis is a plus.Strong h...  \n",
       "2      Karachi  B.Sc. degree (or equivalent level of professio...  \n",
       "3      Karachi  To suggest improvements in product data develo...  \n",
       "4       Multan  Degree in either engineering or food science.E...  "
      ]
     },
     "execution_count": 68,
     "metadata": {},
     "output_type": "execute_result"
    }
   ],
   "source": [
    "df = pd.read_csv('indeed_jobs.csv')\n",
    "df.head()"
   ]
  },
  {
   "cell_type": "code",
   "execution_count": 69,
   "id": "ae60f069",
   "metadata": {},
   "outputs": [],
   "source": [
    "!pip install jovian --upgrade --quiet"
   ]
  },
  {
   "cell_type": "code",
   "execution_count": 70,
   "id": "04c686bc",
   "metadata": {},
   "outputs": [],
   "source": [
    "import jovian"
   ]
  },
  {
   "cell_type": "code",
   "execution_count": 72,
   "id": "fd4ee192",
   "metadata": {},
   "outputs": [
    {
     "data": {
      "application/javascript": [
       "window.require && require([\"base/js/namespace\"],function(Jupyter){Jupyter.notebook.save_checkpoint()})"
      ],
      "text/plain": [
       "<IPython.core.display.Javascript object>"
      ]
     },
     "metadata": {},
     "output_type": "display_data"
    },
    {
     "name": "stdout",
     "output_type": "stream",
     "text": [
      "[jovian] Creating a new project \"muzammilmuhammad196/indeed_data_science_jobs_scraping_python\"\u001b[0m\n",
      "[jovian] Committed successfully! https://jovian.ai/muzammilmuhammad196/indeed-data-science-jobs-scraping-python\u001b[0m\n"
     ]
    },
    {
     "data": {
      "text/plain": [
       "'https://jovian.ai/muzammilmuhammad196/indeed-data-science-jobs-scraping-python'"
      ]
     },
     "execution_count": 72,
     "metadata": {},
     "output_type": "execute_result"
    }
   ],
   "source": [
    "# Execute this to save new versions of the notebook\n",
    "jovian.commit(project=\"indeed_data_science_jobs_scraping_python\")"
   ]
  },
  {
   "cell_type": "code",
   "execution_count": null,
   "id": "bb705c3d",
   "metadata": {},
   "outputs": [],
   "source": []
  }
 ],
 "metadata": {
  "kernelspec": {
   "display_name": "Python 3 (ipykernel)",
   "language": "python",
   "name": "python3"
  },
  "language_info": {
   "codemirror_mode": {
    "name": "ipython",
    "version": 3
   },
   "file_extension": ".py",
   "mimetype": "text/x-python",
   "name": "python",
   "nbconvert_exporter": "python",
   "pygments_lexer": "ipython3",
   "version": "3.9.6"
  }
 },
 "nbformat": 4,
 "nbformat_minor": 5
}
